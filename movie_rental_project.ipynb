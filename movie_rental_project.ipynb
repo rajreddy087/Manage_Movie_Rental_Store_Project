{
  "nbformat": 4,
  "nbformat_minor": 0,
  "metadata": {
    "colab": {
      "provenance": []
    },
    "kernelspec": {
      "name": "python3",
      "display_name": "Python 3"
    },
    "language_info": {
      "name": "python"
    }
  },
  "cells": [
    {
      "cell_type": "markdown",
      "source": [
        "### Python Data Structures Revision\n",
        "\n",
        "#### 1. Lists\n",
        "**Concept:** A list is like a collection of items that can be anything: numbers, words, etc. You can think of it as a shopping list where you can add, remove, or change items.\n",
        "\n",
        "**Example:** Imagine you have a shopping list with items."
      ],
      "metadata": {
        "id": "stBTR8hm6TKE"
      }
    },
    {
      "cell_type": "code",
      "source": [
        "# Shopping list\n",
        "shopping_list = [\"apples\", \"bananas\", \"milk\", \"bread\"]\n",
        "\n",
        "# Add an item\n",
        "shopping_list.append(\"eggs\")\n",
        "print(shopping_list)  # Output: ['apples', 'bananas', 'milk', 'bread', 'eggs']\n",
        "\n",
        "# Remove an item\n",
        "shopping_list.remove(\"milk\")\n",
        "print(shopping_list)  # Output: ['apples', 'bananas', 'bread', 'eggs']\n",
        "\n",
        "# Change an item\n",
        "shopping_list[1] = \"oranges\"\n",
        "print(shopping_list)  # Output: ['apples', 'oranges', 'bread', 'eggs']\n",
        "\n",
        "# Access an item\n",
        "print(shopping_list[0])  # Output: 'apples'"
      ],
      "metadata": {
        "id": "3qRioZr-6Z0a",
        "colab": {
          "base_uri": "https://localhost:8080/"
        },
        "outputId": "8725f987-29cc-4f48-a207-fc403ed8d511"
      },
      "execution_count": 1,
      "outputs": [
        {
          "output_type": "stream",
          "name": "stdout",
          "text": [
            "['apples', 'bananas', 'milk', 'bread', 'eggs']\n",
            "['apples', 'bananas', 'bread', 'eggs']\n",
            "['apples', 'oranges', 'bread', 'eggs']\n",
            "apples\n"
          ]
        }
      ]
    },
    {
      "cell_type": "markdown",
      "source": [
        "#### 2. Dictionaries\n",
        "**Concept:** A dictionary is like a real-world dictionary where you have words (keys) and their meanings (values). It's used to store data in pairs.\n",
        "\n",
        "**Example:** Imagine you have a contact book with names and phone numbers.\n"
      ],
      "metadata": {
        "id": "OQ0K9BMi6cwI"
      }
    },
    {
      "cell_type": "code",
      "source": [
        "#### Contact book\n",
        "contact_book = {\"John\": \"123-456-7890\", \"Jane\": \"987-654-3210\"}\n",
        "\n",
        "# Add a contact\n",
        "contact_book[\"Mike\"] = \"555-555-5555\"\n",
        "print(contact_book)  # Output: {'John': '123-456-7890', 'Jane': '987-654-3210', 'Mike': '555-555-5555'}\n",
        "\n",
        "# Remove a contact\n",
        "del contact_book[\"Jane\"]\n",
        "print(contact_book)  # Output: {'John': '123-456-7890', 'Mike': '555-555-5555'}\n",
        "\n",
        "# Change a contact's number\n",
        "contact_book[\"John\"] = \"111-222-3333\"\n",
        "print(contact_book)  # Output: {'John': '111-222-3333', 'Mike': '555-555-5555'}\n",
        "\n",
        "# Access a contact's number\n",
        "print(contact_book[\"John\"])  # Output: '111-222-3333'"
      ],
      "metadata": {
        "id": "GMwOVUJF6gmU"
      },
      "execution_count": null,
      "outputs": []
    },
    {
      "cell_type": "markdown",
      "source": [
        "#### 3. Tuples\n",
        "**Concept:** A tuple is like a list, but you can't change it after it's created. It's like a record of a transaction where details once entered can't be altered.\n",
        "\n",
        "**Example:** Imagine you have records of sales transactions."
      ],
      "metadata": {
        "id": "2YuFSiKs6jkJ"
      }
    },
    {
      "cell_type": "code",
      "source": [
        "# Sales transaction\n",
        "transaction = (\"John\", \"apples\", 5)\n",
        "\n",
        "# Access transaction details\n",
        "print(transaction[0])  # Output: 'John'\n",
        "print(transaction[1])  # Output: 'apples'\n",
        "print(transaction[2])  # Output: 5\n",
        "\n",
        "# You can't change a tuple\n",
        "# transaction[1] = \"oranges\"  # This will raise an error"
      ],
      "metadata": {
        "id": "SYtl116Q6nbG"
      },
      "execution_count": null,
      "outputs": []
    },
    {
      "cell_type": "markdown",
      "source": [
        "#### 4. Sets\n",
        "**Concept:** A set is like a collection of unique items. It's like a list of all different types of fruits you have where no fruit is listed more than once.\n",
        "\n",
        "**Example:** Imagine you have a list of fruits you own, and you want to ensure no duplicates.\n"
      ],
      "metadata": {
        "id": "5QfPZ9Am6qk0"
      }
    },
    {
      "cell_type": "code",
      "source": [
        "# List of fruits\n",
        "fruits = {\"apples\", \"bananas\", \"oranges\", \"apples\"}\n",
        "print(fruits) #Sets don't have duplicates. output will be {'bananas', 'oranges', 'apples'}\n",
        "\n",
        "\n",
        "# Add a fruit\n",
        "fruits.add(\"grapes\")\n",
        "print(fruits)  # Output: {'apples', 'bananas', 'oranges', 'grapes'}\n",
        "\n",
        "# Remove a fruit\n",
        "fruits.remove(\"bananas\")\n",
        "print(fruits)  # Output: {'apples', 'oranges', 'grapes'}\n",
        "\n",
        "# Check if a fruit is in the set\n",
        "print(\"apples\" in fruits)  # Output: True\n",
        "\n",
        "# Sets don't have duplicates\n",
        "fruits.add(\"apples\")\n",
        "print(fruits)  # Output: {'apples', 'oranges', 'grapes'}"
      ],
      "metadata": {
        "id": "dAEK-ZQV6tlO",
        "colab": {
          "base_uri": "https://localhost:8080/"
        },
        "outputId": "84616b6e-0865-461a-fde7-57d85475c4f5"
      },
      "execution_count": 2,
      "outputs": [
        {
          "output_type": "stream",
          "name": "stdout",
          "text": [
            "{'bananas', 'oranges', 'apples'}\n",
            "{'grapes', 'bananas', 'oranges', 'apples'}\n",
            "{'grapes', 'oranges', 'apples'}\n",
            "True\n",
            "{'grapes', 'oranges', 'apples'}\n"
          ]
        }
      ]
    },
    {
      "cell_type": "markdown",
      "source": [
        "#### 5. Strings\n",
        "**Concept:** A string is a sequence of characters, like a sentence or a word. It's like writing a note.\n",
        "\n",
        "**Example:** Imagine you are writing a message."
      ],
      "metadata": {
        "id": "LWPgrTEH6whG"
      }
    },
    {
      "cell_type": "code",
      "source": [
        "# Message\n",
        "message = \"Hello, World!\"\n",
        "\n",
        "# Access a character\n",
        "print(message[0])  # Output: 'H'\n",
        "\n",
        "# Slice a string\n",
        "print(message[0:5])  # Output: 'Hello'\n",
        "\n",
        "# Change a string (strings are immutable, so we create a new one)\n",
        "new_message = message.replace(\"World\", \"Python\")\n",
        "print(new_message)  # Output: 'Hello, Python!'\n",
        "\n",
        "# String length\n",
        "print(len(message))  # Output: 13\n",
        "\n",
        "# Convert to upper case\n",
        "print(message.upper())  # Output: 'HELLO, WORLD!'"
      ],
      "metadata": {
        "id": "LNJV1Yjc6ztF",
        "colab": {
          "base_uri": "https://localhost:8080/"
        },
        "outputId": "20dec98e-9560-4e6b-e648-b13244560c28"
      },
      "execution_count": 3,
      "outputs": [
        {
          "output_type": "stream",
          "name": "stdout",
          "text": [
            "H\n",
            "Hello\n",
            "Hello, Python!\n",
            "13\n",
            "HELLO, WORLD!\n"
          ]
        }
      ]
    },
    {
      "cell_type": "markdown",
      "source": [
        "### Summary\n",
        "- **Lists:** A mutable collection of items. Use when you need to change the items.\n",
        "- **Dictionaries:** A collection of key-value pairs. Use when you need to store related data pairs.\n",
        "- **Tuples:** An immutable collection of items. Use when you need to store unchangeable data.\n",
        "- **Sets:** A collection of unique items. Use when you need to store distinct items.\n",
        "- **Strings:** A sequence of characters. Use for text data."
      ],
      "metadata": {
        "id": "KhIP7IoMNHQs"
      }
    },
    {
      "cell_type": "code",
      "source": [],
      "metadata": {
        "id": "sEwuBgHU6RVz"
      },
      "execution_count": null,
      "outputs": []
    },
    {
      "cell_type": "code",
      "source": [],
      "metadata": {
        "id": "i8ROySYH6RYf"
      },
      "execution_count": null,
      "outputs": []
    },
    {
      "cell_type": "markdown",
      "source": [
        "### Expanded Story: Managing a Movie Rental Store\n",
        "\n",
        "#### Part 1: Initializing the Store's Inventory and Customer Database (Using Lists and Dictionaries)\n",
        "The movie rental store starts with an initial inventory of movies and a customer database.\n"
      ],
      "metadata": {
        "id": "KNuzGsAw2cjj"
      }
    },
    {
      "cell_type": "markdown",
      "source": [
        "### Full Story Explanation\n",
        "1. **Initializing Inventory and Customer Database (Lists and Dictionaries):** Start with an initial collection of movies and a customer database.\n",
        "2. **Adding New Movies (Lists and Dictionaries):** Add new movies to the store's inventory.\n",
        "3. **Categorizing Movies (Dictionaries and Lists):** Categorize movies by genre for easier browsing.\n",
        "4. **Managing Rentals (Tuples, Sets, and Dictionaries):** Track rentals, update availability, and maintain customer records.\n",
        "5. **Handling Returns (Conditionals, Loops, and Dates):** Update records when movies are returned, check for overdue rentals, and calculate late fees.\n",
        "6. **Displaying Available Movies (Dictionaries, Sets, and Loops):** Show all available movies sorted by genre.\n",
        "7. **Searching for a Movie (Conditional Statements and Loops):** Allow customers to search for a movie by title and check its availability.\n",
        "8. **Adding and Removing Customers (Dictionaries):** Manage the customer database by adding new customers and removing inactive ones.\n",
        "9. **Generating Reports (Loops and Conditional Statements):** Generate various reports on rentals, overdue movies, and customer balances.\n",
        "10. **Handling Membership Upgrades and Downgrades (Conditionals and Loops):** Manage membership changes and their effects on rental privileges.\n",
        "11. **Handling Movie Reservations (Lists and Dictionaries):** Allow customers to reserve unavailable movies and notify them when they become available."
      ],
      "metadata": {
        "id": "zOqO847y2UfU"
      }
    },
    {
      "cell_type": "code",
      "source": [
        "# Initial inventory of movies\n",
        "inventory = [\n",
        "    {\"title\": \"Inception\", \"genre\": \"Sci-Fi\", \"available\": True},\n",
        "    {\"title\": \"The Matrix\", \"genre\": \"Sci-Fi\", \"available\": True},\n",
        "    {\"title\": \"Interstellar\", \"genre\": \"Sci-Fi\", \"available\": True},\n",
        "    {\"title\": \"The Godfather\", \"genre\": \"Crime\", \"available\": True},\n",
        "    {\"title\": \"Pulp Fiction\", \"genre\": \"Crime\", \"available\": True},\n",
        "    {\"title\": \"The Dark Knight\", \"genre\": \"Action\", \"available\": True},\n",
        "    {\"title\": \"Fight Club\", \"genre\": \"Drama\", \"available\": True}\n",
        "]\n",
        "\n",
        "# Customer database\n",
        "customers = {\n",
        "    \"Alice\": {\"membership\": \"Premium\", \"rented_movies\": [], \"balance\": 0.0},\n",
        "    \"Bob\": {\"membership\": \"Standard\", \"rented_movies\": [], \"balance\": 0.0},\n",
        "    \"Charlie\": {\"membership\": \"Standard\", \"rented_movies\": [], \"balance\": 0.0}\n",
        "}\n",
        "\n",
        "\n",
        "print(\"Initial Inventory:\")\n",
        "\n",
        "# loop over each movie, and print title, genre, availability\n",
        "for movie in inventory:\n",
        "    print(f\"Title: {movie['title']}, Genre: {movie['genre']}, Available: {movie['available']}\")\n",
        "\n",
        "\n",
        "print(\"\\nCustomer Database:\")\n",
        "\n",
        "# loop over customers, print customer, membership, their rented movies and balance\n",
        "\n"
      ],
      "metadata": {
        "id": "L7NcQ0qq2tY2",
        "colab": {
          "base_uri": "https://localhost:8080/"
        },
        "outputId": "7b773879-63b3-4c4f-8591-92e23f5c4ab0"
      },
      "execution_count": 4,
      "outputs": [
        {
          "output_type": "stream",
          "name": "stdout",
          "text": [
            "Initial Inventory:\n",
            "Title: Inception, Genre: Sci-Fi, Available: True\n",
            "Title: The Matrix, Genre: Sci-Fi, Available: True\n",
            "Title: Interstellar, Genre: Sci-Fi, Available: True\n",
            "Title: The Godfather, Genre: Crime, Available: True\n",
            "Title: Pulp Fiction, Genre: Crime, Available: True\n",
            "Title: The Dark Knight, Genre: Action, Available: True\n",
            "Title: Fight Club, Genre: Drama, Available: True\n",
            "\n",
            "Customer Database:\n"
          ]
        }
      ]
    },
    {
      "cell_type": "code",
      "source": [],
      "metadata": {
        "id": "OaRSsiur2pGj"
      },
      "execution_count": null,
      "outputs": []
    },
    {
      "cell_type": "markdown",
      "source": [
        "#### Part 2: Adding New Movies to the Inventory (Using Lists and Dictionaries)\n",
        "New movies arrive at the store, and they are added to the inventory."
      ],
      "metadata": {
        "id": "Hez1t5-h21v_"
      }
    },
    {
      "cell_type": "code",
      "source": [
        "# New movies to be added\n",
        "new_movies = [\n",
        "    {\"title\": \"The Shawshank Redemption\", \"genre\": \"Drama\", \"available\": True},\n",
        "    {\"title\": \"The Avengers\", \"genre\": \"Action\", \"available\": True},\n",
        "    {\"title\": \"Titanic\", \"genre\": \"Romance\", \"available\": True}\n",
        "]\n",
        "\n",
        "# Add new movies to the inventory lists\n",
        "new_movies.append({\"title\": \"Jackpot!\", \"genre\": \"Action\", \"available\": True})\n",
        "\n",
        "#add new movies to the  inventory\n",
        "additional_movies = [\n",
        "    {\"title\": \"Pride and Prejudice\", \"genre\": \"Romance\", \"available\": True},\n",
        "    {\"title\": \"Forrest Gump\", \"genre\": \"Drama\", \"available\": True},\n",
        "    {\"title\": \"Jurassic Park\", \"genre\": \"Adventure\", \"available\": True}\n",
        "]\n",
        "\n",
        "# Extend the new_movies list with additional movies\n",
        "new_movies.extend(additional_movies)\n",
        "\n",
        "\n",
        "\n",
        "\n",
        "print(\"\\nUpdated Inventory:\")\n",
        "\n",
        "# again loop over inventory and print all movie titles, genre and availability\n",
        "for movie in new_movies:\n",
        "    print(f\"Title: {movie['title']}, Genre: {movie['genre']}, Available: {movie['available']}\")\n",
        "\n",
        "\n",
        "\n"
      ],
      "metadata": {
        "id": "LcrqWwsA27C5",
        "colab": {
          "base_uri": "https://localhost:8080/"
        },
        "outputId": "8e34e460-e22d-4e12-e594-de4807b51f56"
      },
      "execution_count": 15,
      "outputs": [
        {
          "output_type": "stream",
          "name": "stdout",
          "text": [
            "\n",
            "Updated Inventory:\n",
            "Title: The Shawshank Redemption, Genre: Drama, Available: True\n",
            "Title: The Avengers, Genre: Action, Available: True\n",
            "Title: Titanic, Genre: Romance, Available: True\n",
            "Title: Jackpot!, Genre: Action, Available: True\n",
            "Title: Pride and Prejudice, Genre: Romance, Available: True\n",
            "Title: Forrest Gump, Genre: Drama, Available: True\n",
            "Title: Jurassic Park, Genre: Adventure, Available: True\n"
          ]
        }
      ]
    },
    {
      "cell_type": "markdown",
      "source": [
        "#### Part 3: Categorizing Movies by Genre (Using Dictionaries and Lists)\n",
        "Movies are categorized by their genres for easier browsing."
      ],
      "metadata": {
        "id": "Dv9DC3aW3ANL"
      }
    },
    {
      "cell_type": "code",
      "source": [
        "# Categorize movies by genre\n",
        "movies_by_genre = {}\n",
        "\n",
        "# loop for each movie in inventory, check if genre is in movies_by_genre, if it's not there, add genre and movie\n",
        "for movie in new_movies:\n",
        "    genre = movie['genre']\n",
        "\n",
        "    # Check if the genre is already in movies_by_genre\n",
        "    if genre not in movies_by_genre:\n",
        "        movies_by_genre[genre] = []  # Create a new list for the genre if it doesn't exist\n",
        "\n",
        "    # Add the movie title to the list for the corresponding genre\n",
        "    movies_by_genre[genre].append(movie['title'])\n",
        "\n",
        "\n",
        "\n",
        "\n",
        "# Print movies categorized by genre\n",
        "print(\"\\nMovies by Genre:\")\n",
        "for genre, titles in movies_by_genre.items():\n",
        "    print(f\"{genre}: {titles}\")"
      ],
      "metadata": {
        "id": "ZsbC6dbP3FJy",
        "colab": {
          "base_uri": "https://localhost:8080/"
        },
        "outputId": "d9f2c98f-25bb-4901-fc92-9d28355707e6"
      },
      "execution_count": 18,
      "outputs": [
        {
          "output_type": "stream",
          "name": "stdout",
          "text": [
            "\n",
            "Movies by Genre:\n",
            "Drama: ['The Shawshank Redemption', 'Forrest Gump']\n",
            "Action: ['The Avengers', 'Jackpot!']\n",
            "Romance: ['Titanic', 'Pride and Prejudice']\n",
            "Adventure: ['Jurassic Park']\n"
          ]
        }
      ]
    },
    {
      "cell_type": "markdown",
      "source": [
        "#### Part 4: Managing Rentals (Using Tuples, Sets, and Dictionaries)\n",
        "Customers rent movies, and the store tracks these rentals, including who rented them, when, and updates the inventory availability."
      ],
      "metadata": {
        "id": "1lTDuWo_3I2r"
      }
    },
    {
      "cell_type": "code",
      "source": [
        "# Track rentals\n",
        "rentals = set()\n",
        "\n",
        "# Customers rent movies\n",
        "rentals.add((\"Alice\", \"Inception\", \"2023-06-01\", \"2023-06-07\"))\n",
        "rentals.add((\"Bob\", \"The Godfather\", \"2023-06-02\", \"2023-06-08\"))\n",
        "rentals.add((\"Charlie\", \"The Dark Knight\", \"2023-06-03\", \"2023-06-09\"))\n",
        "\n",
        "# Update inventory availability and customer records\n",
        "customer_records = {}\n",
        "\n",
        "for rental in rentals:\n",
        "  customer, movie_title, start_date, end_date = rental\n",
        "\n",
        "  #Check if movie title is in the inventory\n",
        "  for movie in inventory:\n",
        "        # check if movie title is same as rental\n",
        "        if movie['title'] == movie_title:\n",
        "            # set movie availability to false if condition is true\n",
        "            movie['available'] = False\n",
        "\n",
        "            # add rentals movie to customer rented movies\n",
        "            if customer not in customer_records:\n",
        "                  customer_records[customer] = []\n",
        "            customer_records[customer].append(movie_title)\n",
        "\n",
        "\n",
        "# Print current rentals, updated inventory, and customer records using for loop\n",
        "print(\"\\nCurrent Rentals:\")\n",
        "for rental in rentals:\n",
        "    print(f\"Customer: {rental[0]}, Movie: {rental[1]}, Rental Period: {rental[2]} to {rental[3]}\")\n",
        "\n",
        "print(\"\\nUpdated Inventory After Rentals:\")\n",
        "for movie in inventory:\n",
        "    print(f\"Title: {movie['title']}, Available: {movie['available']}\")\n",
        "\n",
        "print(\"\\nUpdated Customer Database After Rentals:\")\n",
        "for customer, movies in customer_records.items():\n",
        "    print(f\"Customer: {customer}, Rented Movies: {', '.join(movies)}\")\n",
        "\n",
        "\n"
      ],
      "metadata": {
        "id": "i1QnSRan3bBP",
        "colab": {
          "base_uri": "https://localhost:8080/"
        },
        "outputId": "ecda63f2-f824-4aff-a89a-c68b916c2f47"
      },
      "execution_count": 28,
      "outputs": [
        {
          "output_type": "stream",
          "name": "stdout",
          "text": [
            "\n",
            "Current Rentals:\n",
            "Customer: Charlie, Movie: The Dark Knight, Rental Period: 2023-06-03 to 2023-06-09\n",
            "Customer: Bob, Movie: The Godfather, Rental Period: 2023-06-02 to 2023-06-08\n",
            "Customer: Alice, Movie: Inception, Rental Period: 2023-06-01 to 2023-06-07\n",
            "\n",
            "Updated Inventory After Rentals:\n",
            "Title: Inception, Available: False\n",
            "Title: The Matrix, Available: True\n",
            "Title: Interstellar, Available: True\n",
            "Title: The Godfather, Available: False\n",
            "Title: Pulp Fiction, Available: True\n",
            "Title: The Dark Knight, Available: False\n",
            "Title: Fight Club, Available: True\n",
            "\n",
            "Updated Customer Database After Rentals:\n",
            "Customer: Charlie, Rented Movies: The Dark Knight\n",
            "Customer: Bob, Rented Movies: The Godfather\n",
            "Customer: Alice, Rented Movies: Inception\n"
          ]
        }
      ]
    },
    {
      "cell_type": "markdown",
      "source": [
        "#### Part 5: Handling Returns and Updating Availability (Using Conditionals, Loops, and Dates)\n",
        "When a customer returns a movie, the inventory and rentals records are updated. We also check for overdue rentals and calculate any late fees."
      ],
      "metadata": {
        "id": "JTMyzRFb3iZJ"
      }
    },
    {
      "cell_type": "code",
      "source": [
        "from datetime import datetime\n",
        "\n",
        "# Returns with the return date\n",
        "returns = [(\"Alice\", \"Inception\", \"2023-06-10\"), (\"Charlie\", \"The Dark Knight\", \"2023-06-08\")]\n",
        "\n",
        "# Process returns and check for overdue rentals, set as 1.5\n",
        "late_fee_per_day =  1.5        # Late fee charged per day in dollars\n",
        "\n",
        "for return_movie in returns:\n",
        "    for rental in list(rentals):\n",
        "        # check if borrower name and movie name in rental matches with name in return movie\n",
        "        if rental[0] == return_movie[0] and rental[1] == return_movie[1]:\n",
        "            due_date = datetime.strptime(rental[3], \"%Y-%m-%d\")\n",
        "            return_date = datetime.strptime(return_movie[2], \"%Y-%m-%d\")\n",
        "            # Calculate overdue days by subtracting due from return and apply .days\n",
        "            days_overdue = (return_date - due_date).days\n",
        "\n",
        "            # check if overdue days is greater than 0\n",
        "            if days_overdue > 0:\n",
        "                # apply late fee as overdue day * late fee\n",
        "                late_fee = days_overdue * late_fee_per_day\n",
        "                # add late fee in customer balance\n",
        "                customers[return_movie[0]][\"balance\"] += late_fee\n",
        "                # print customer returned movie details\n",
        "                print(f\"{return_movie[0]} returned {return_movie[1]} late by {days_overdue} days. Late fee: ${late_fee:.2f}\")\n",
        "\n",
        "            rentals.remove(rental)\n",
        "            break\n",
        "\n",
        "    for movie in inventory:\n",
        "        # check if movie title is returned movie\n",
        "        if movie[\"title\"] == return_movie[1]:\n",
        "            # set movie availability as true\n",
        "            movie[\"available\"] = True\n",
        "    # remove movie from customer rented movies\n",
        "    if return_movie[0] in customers:\n",
        "      #customers[return_movie[0]][\"rented_movies\"].remove(return_movie[1])\n",
        "\n",
        "      customers[return_movie[0]][\"rented_movies\"].remove,return_movie[1]\n",
        "\n",
        "\n",
        "# Print updated rentals, inventory, and customer records after returns\n",
        "print(\"\\nUpdated Rentals After Returns:\")\n",
        "for rental in rentals:\n",
        "    print(f\"Customer: {rental[0]}, Movie: {rental[1]}, Rented On: {rental[2]}, Due Date: {rental[3]}\")\n",
        "\n",
        "print(\"\\nUpdated Inventory After Returns:\")\n",
        "for movie in inventory:\n",
        "    print(f\"Title: {movie['title']}, Genre: {movie['genre']}, Available: {movie['available']}\")\n",
        "\n",
        "print(\"\\nUpdated Customer Database After Returns:\")\n",
        "for customer, details in customers.items():\n",
        "    print(f\"Customer: {customer}, Membership: {details['membership']}, Rented Movies: {details['rented_movies']}, Balance: ${details['balance']:.2f}\")"
      ],
      "metadata": {
        "id": "CNlLaud-3puC",
        "colab": {
          "base_uri": "https://localhost:8080/"
        },
        "outputId": "1dc1ea26-56e4-4cd0-97d5-b10793312d81"
      },
      "execution_count": 49,
      "outputs": [
        {
          "output_type": "stream",
          "name": "stdout",
          "text": [
            "\n",
            "Updated Rentals After Returns:\n",
            "Customer: Bob, Movie: The Godfather, Rented On: 2023-06-02, Due Date: 2023-06-08\n",
            "\n",
            "Updated Inventory After Returns:\n",
            "Title: Inception, Genre: Sci-Fi, Available: True\n",
            "Title: The Matrix, Genre: Sci-Fi, Available: True\n",
            "Title: Interstellar, Genre: Sci-Fi, Available: True\n",
            "Title: The Godfather, Genre: Crime, Available: False\n",
            "Title: Pulp Fiction, Genre: Crime, Available: True\n",
            "Title: The Dark Knight, Genre: Action, Available: True\n",
            "Title: Fight Club, Genre: Drama, Available: True\n",
            "\n",
            "Updated Customer Database After Returns:\n",
            "Customer: Alice, Membership: Premium, Rented Movies: [], Balance: $18.00\n",
            "Customer: Bob, Membership: Standard, Rented Movies: [], Balance: $0.00\n",
            "Customer: Charlie, Membership: Standard, Rented Movies: [], Balance: $0.00\n"
          ]
        }
      ]
    },
    {
      "cell_type": "markdown",
      "source": [
        "#### Part 6: Displaying Available Movies by Genre (Using Dictionaries, Sets, and Loops)\n",
        "The store displays all available movies sorted by genre.\n"
      ],
      "metadata": {
        "id": "gA3VrJ4N3uWf"
      }
    },
    {
      "cell_type": "code",
      "source": [
        "# Available movies by genre, create an empty dict here\n",
        "available_movies_by_genre ={}\n",
        "\n",
        "\n",
        "for genre, titles in movies_by_genre.items():\n",
        "    available_movies =[]\n",
        "    for title in titles:\n",
        "        for movie in inventory:\n",
        "            # check if movie in inventory is same as title of movies by genre\n",
        "            if movie[\"title\"] == title and movie[\"available\"]:\n",
        "                # add title in available movies once condition is true\n",
        "                available_movies.append(title)\n",
        "    # add movie in available movies by genre\n",
        "    if available_movies:\n",
        "      available_movies_by_genre[genre] = available_movies\n",
        "\n",
        "\n",
        "\n",
        "# Print available movies by genre\n",
        "print(\"\\nAvailable Movies by Genre:\")\n",
        "for genre, titles in available_movies_by_genre.items():\n",
        "    print(f\"{genre}: {titles}\")\n"
      ],
      "metadata": {
        "id": "faTsyJir36ym",
        "colab": {
          "base_uri": "https://localhost:8080/"
        },
        "outputId": "75c32d73-81ba-4a9e-858d-6a84bf08094d"
      },
      "execution_count": 61,
      "outputs": [
        {
          "output_type": "stream",
          "name": "stdout",
          "text": [
            "\n",
            "Available Movies by Genre:\n"
          ]
        }
      ]
    },
    {
      "cell_type": "markdown",
      "source": [
        "### Continued Part 7: Searching for a Movie (Using Conditional Statements and Loops)\n",
        "Customers can search for a movie by title to check its availability."
      ],
      "metadata": {
        "id": "w9oHKylB4CL3"
      }
    },
    {
      "cell_type": "code",
      "source": [
        "# Search for a movie\n",
        "search_title = \"The Shawshank Redemption\"\n",
        "# set found as false for now\n",
        "found =\n",
        "\n",
        "for movie in inventory:\n",
        "    # check if movie title is equal to search title, use .lower() to avoid case sensitive\n",
        "    if ----------------------:\n",
        "        # set found as true after if is satisfied\n",
        "        found =\n",
        "        print(f\"\\nSearch Result: '{search_title}' is {'available' if movie['available'] else 'not available'}.\")\n",
        "        break\n",
        "\n",
        "if not found:\n",
        "    print(f\"\\nSearch Result: '{search_title}' is not in the inventory.\")"
      ],
      "metadata": {
        "id": "VFuGg9h74He8"
      },
      "execution_count": null,
      "outputs": []
    },
    {
      "cell_type": "markdown",
      "source": [
        "#### Part 8: Adding and Removing Customers (Using Dictionaries)\n",
        "The store manages its customer database by adding new customers and removing those who no longer use the service."
      ],
      "metadata": {
        "id": "uGsuaN4G4Qhj"
      }
    },
    {
      "cell_type": "code",
      "source": [
        "# Adding new customers\n",
        "new_customers = {\n",
        "    \"David\": {\"membership\": \"Premium\", \"rented_movies\": [], \"balance\": 0.0},\n",
        "    \"Eve\": {\"membership\": \"Standard\", \"rented_movies\": [], \"balance\": 0.0}\n",
        "}\n",
        "\n",
        "# update new customers in customers\n",
        "customers.update(new_customers)\n",
        "\n",
        "# Removing a customer named \"Charlie\"\n",
        "if \"Charlie\" in customers:\n",
        "    del customers[\"Charlie\"]\n",
        "\n",
        "# Print updated customer database\n",
        "print(\"\\nUpdated Customer Database After Adding and Removing Customers:\")\n",
        "\n",
        "# Use loop to print customer and details\n",
        "for customer, details in customers.items():\n",
        "    print(f\"Customer: {customer}, Membership: {details['membership']}, Rented Movies: {', '.join(details['rented_movies'])}, Balance: ${details['balance']:.2f}\")\n",
        "\n",
        "\n"
      ],
      "metadata": {
        "id": "4m0zojPo414O",
        "colab": {
          "base_uri": "https://localhost:8080/"
        },
        "outputId": "2b82c26c-66e0-4d78-e421-88259957479c"
      },
      "execution_count": 63,
      "outputs": [
        {
          "output_type": "stream",
          "name": "stdout",
          "text": [
            "\n",
            "Updated Customer Database After Adding and Removing Customers:\n",
            "Customer: Alice, Membership: Premium, Rented Movies: , Balance: $18.00\n",
            "Customer: Bob, Membership: Standard, Rented Movies: , Balance: $0.00\n",
            "Customer: David, Membership: Premium, Rented Movies: , Balance: $0.00\n",
            "Customer: Eve, Membership: Standard, Rented Movies: , Balance: $0.00\n"
          ]
        }
      ]
    },
    {
      "cell_type": "markdown",
      "source": [
        "#### Part 9: Generating Reports (Using Loops and Conditional Statements)\n",
        "The store generates various reports, such as movies currently rented out, overdue rentals, and customer balances."
      ],
      "metadata": {
        "id": "G1iWN96D4lYm"
      }
    },
    {
      "cell_type": "code",
      "source": [
        "from datetime import date\n",
        "\n",
        "# Report: Movies currently rented out\n",
        "print(\"\\nReport: Movies Currently Rented Out:\")\n",
        "# loop over each rentals and print\n",
        "for rental in rentals:\n",
        "    print(f\"Customer: {rental[0]}, Movie: {rental[1]}, Rented On: {rental[2]}, Due Date: {rental[3]}\")\n",
        "\n",
        "# Report: Overdue rentals\n",
        "print(\"\\nReport: Overdue Rentals:\")\n",
        "today = date.today()\n",
        "# loop over each rentals\n",
        "for rental in rentals:\n",
        "    due_date = datetime.strptime(rental[3], \"%Y-%m-%d\").date()\n",
        "    # check if due date is before today\n",
        "    if due_date < today:\n",
        "        print(f\"Customer: {rental[0]}, Movie: {rental[1]}, Due Date: {rental[3]}, Overdue by {(today - due_date).days} days\")\n",
        "\n",
        "# Report: Customer balances\n",
        "print(\"\\nReport: Customer Balances:\")\n",
        "# loop over customers, if their balance is > 0, print it for 2 decimal places\n",
        "for customer, details in customers.items():\n",
        "    if details['balance'] > 0:\n",
        "        print(f\"Customer: {customer}, Balance: ${details['balance']:.2f}\")\n",
        "\n",
        "\n",
        "\n"
      ],
      "metadata": {
        "id": "PyM8BbQc5BUG",
        "colab": {
          "base_uri": "https://localhost:8080/"
        },
        "outputId": "2b3404ef-8e00-4569-962e-af24da432958"
      },
      "execution_count": 65,
      "outputs": [
        {
          "output_type": "stream",
          "name": "stdout",
          "text": [
            "\n",
            "Report: Movies Currently Rented Out:\n",
            "Customer: Bob, Movie: The Godfather, Rented On: 2023-06-02, Due Date: 2023-06-08\n",
            "\n",
            "Report: Overdue Rentals:\n",
            "Customer: Bob, Movie: The Godfather, Due Date: 2023-06-08, Overdue by 469 days\n",
            "\n",
            "Report: Customer Balances:\n",
            "Customer: Alice, Balance: $18.00\n"
          ]
        }
      ]
    },
    {
      "cell_type": "markdown",
      "source": [
        "#### Part 10: Handling Membership Upgrades and Downgrades (Using Conditionals and Loops)\n",
        "Customers may upgrade or downgrade their memberships, affecting their rental privileges.\n"
      ],
      "metadata": {
        "id": "ggLhFD-F5c60"
      }
    },
    {
      "cell_type": "code",
      "source": [
        "# Membership upgrade and downgrade rules\n",
        "membership_rules = {\n",
        "    \"Standard\": {\"max_rentals\": 2, \"late_fee_discount\": 0.0},\n",
        "    \"Premium\": {\"max_rentals\": 5, \"late_fee_discount\": 0.5}\n",
        "}\n",
        "\n",
        "# Upgrading and downgrading memberships\n",
        "customers[\"Bob\"][\"membership\"] = \"Premium\"\n",
        "customers[\"Eve\"][\"membership\"] = \"Standard\"\n",
        "\n",
        "# Print updated customer membership details\n",
        "print(\"\\nUpdated Customer Memberships and Privileges:\")\n",
        "for customer, details in customers.items():\n",
        "    membership = details[\"membership\"]# code here\n",
        "    max_rentals = membership_rules[membership][\"max_rentals\"]# code here\n",
        "    late_fee_discount =membership_rules[membership][\"late_fee_discount\"] # code here\n",
        "    print(f\"Customer: {customer}, Membership: {membership}, Max Rentals: {max_rentals}, Late Fee Discount: {late_fee_discount * 100}%\")"
      ],
      "metadata": {
        "id": "dQHCr45e5iSB",
        "colab": {
          "base_uri": "https://localhost:8080/"
        },
        "outputId": "e8cc9089-11d2-49fa-e5bd-2c259c5bd60b"
      },
      "execution_count": 67,
      "outputs": [
        {
          "output_type": "stream",
          "name": "stdout",
          "text": [
            "\n",
            "Updated Customer Memberships and Privileges:\n",
            "Customer: Alice, Membership: Premium, Max Rentals: 5, Late Fee Discount: 50.0%\n",
            "Customer: Bob, Membership: Premium, Max Rentals: 5, Late Fee Discount: 50.0%\n",
            "Customer: David, Membership: Premium, Max Rentals: 5, Late Fee Discount: 50.0%\n",
            "Customer: Eve, Membership: Standard, Max Rentals: 2, Late Fee Discount: 0.0%\n"
          ]
        }
      ]
    },
    {
      "cell_type": "markdown",
      "source": [
        "#### Part 11: Handling Movie Reservations (Using Lists and Dictionaries)\n",
        "Customers can reserve movies that are currently unavailable, and the store will notify them when the movies become available."
      ],
      "metadata": {
        "id": "mikH9tMd5me-"
      }
    },
    {
      "cell_type": "code",
      "source": [
        "# Movie reservations\n",
        "reservations = []\n",
        "\n",
        "# Adding reservations\n",
        "reservations.append({\"customer\": \"Alice\", \"movie\": \"The Godfather\"})\n",
        "reservations.append({\"customer\": \"David\", \"movie\": \"Inception\"})\n",
        "\n",
        "# Check and notify customers when a movie becomes available\n",
        "print(\"\\nChecking Reservations and Notifying Customers:\")\n",
        "# loop over each movie in inventory\n",
        "for movie in inventory:\n",
        "    # check if movie availability is true\n",
        "    if movie[\"available\"]:\n",
        "        # now loop over each reservations\n",
        "        for reservation in list(reservations):\n",
        "            # check if available movie title matches with reservation movie\n",
        "            if movie[\"title\"] == reservation[\"movie\"]:\n",
        "                print(f\"Notify {reservation['customer']} that '{reservation['movie']}' is now available.\")\n",
        "                # now write code to remove that reservation from reservations below\n",
        "                reservations.remove(reservation)\n",
        "\n",
        "# Print remaining reservations\n",
        "print(\"\\nRemaining Reservations:\")\n",
        "for reservation in reservations:\n",
        "    print(f\"Customer: {reservation['customer']}, Movie: {reservation['movie']}\")"
      ],
      "metadata": {
        "id": "ROx5Q8BzoE88",
        "colab": {
          "base_uri": "https://localhost:8080/"
        },
        "outputId": "39654180-3a99-4648-f913-59c79d35cd25"
      },
      "execution_count": 68,
      "outputs": [
        {
          "output_type": "stream",
          "name": "stdout",
          "text": [
            "\n",
            "Checking Reservations and Notifying Customers:\n",
            "Notify David that 'Inception' is now available.\n",
            "\n",
            "Remaining Reservations:\n",
            "Customer: Alice, Movie: The Godfather\n"
          ]
        }
      ]
    },
    {
      "cell_type": "code",
      "source": [],
      "metadata": {
        "id": "ZNp3ki6L5UeH"
      },
      "execution_count": null,
      "outputs": []
    },
    {
      "cell_type": "code",
      "source": [],
      "metadata": {
        "id": "cvV3n22roE_C"
      },
      "execution_count": null,
      "outputs": []
    },
    {
      "cell_type": "code",
      "source": [],
      "metadata": {
        "id": "KcA8akIXoFBN"
      },
      "execution_count": null,
      "outputs": []
    },
    {
      "cell_type": "code",
      "source": [],
      "metadata": {
        "id": "pDqfWzdjoFDV"
      },
      "execution_count": null,
      "outputs": []
    },
    {
      "cell_type": "code",
      "source": [],
      "metadata": {
        "id": "Jln2wvZLoFFg"
      },
      "execution_count": null,
      "outputs": []
    },
    {
      "cell_type": "code",
      "source": [],
      "metadata": {
        "id": "KvYeC16VoFHm"
      },
      "execution_count": null,
      "outputs": []
    },
    {
      "cell_type": "code",
      "source": [],
      "metadata": {
        "id": "gLd94qT1oFKZ"
      },
      "execution_count": 55,
      "outputs": []
    },
    {
      "cell_type": "code",
      "source": [],
      "metadata": {
        "id": "HjY-AmBWtOQm"
      },
      "execution_count": 67,
      "outputs": []
    }
  ]
}